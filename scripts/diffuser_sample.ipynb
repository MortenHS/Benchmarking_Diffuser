{
  "cells": [
    {
      "cell_type": "markdown",
      "metadata": {
        "id": "7Cy2P-c4XFTx"
      },
      "source": [
        "### Setup"
      ]
    },
    {
      "cell_type": "markdown",
      "metadata": {
        "id": "Tj7eyweNapes"
      },
      "source": [
        "apt install requirements"
      ]
    },
    {
      "cell_type": "code",
      "execution_count": null,
      "metadata": {
        "colab": {
          "base_uri": "https://localhost:8080/"
        },
        "id": "HKMZc5zvfoY1",
        "outputId": "ba9c9c41-6a2b-4254-d890-c9bb05ea6f6d"
      },
      "outputs": [
        {
          "ename": "",
          "evalue": "",
          "output_type": "error",
          "traceback": [
            "\u001b[1;31mRunning cells with '/bin/python' requires the ipykernel package.\n",
            "\u001b[1;31mRun the following command to install 'ipykernel' into the Python environment. \n",
            "\u001b[1;31mCommand: '/bin/python -m pip install ipykernel -U --user --force-reinstall'"
          ]
        }
      ],
      "source": [
        "!apt-get install -y \\\n",
        "    libgl1-mesa-dev \\\n",
        "    libgl1-mesa-glx \\\n",
        "    libglew-dev \\\n",
        "    libosmesa6-dev \\\n",
        "    software-properties-common\n",
        "\n",
        "!apt-get install -y patchelf"
      ]
    },
    {
      "cell_type": "markdown",
      "metadata": {
        "id": "ppxv6Mdkalbc"
      },
      "source": [
        "Clone repo and install dependencies"
      ]
    },
    {
      "cell_type": "code",
      "execution_count": null,
      "metadata": {
        "colab": {
          "base_uri": "https://localhost:8080/",
          "height": 1000
        },
        "id": "mgQA_XN-XGY2",
        "outputId": "33efe14b-2d12-49af-e668-1a7e3bab363e"
      },
      "outputs": [
        {
          "ename": "",
          "evalue": "",
          "output_type": "error",
          "traceback": [
            "\u001b[1;31mRunning cells with '/bin/python' requires the ipykernel package.\n",
            "\u001b[1;31mRun the following command to install 'ipykernel' into the Python environment. \n",
            "\u001b[1;31mCommand: '/bin/python -m pip install ipykernel -U --user --force-reinstall'"
          ]
        }
      ],
      "source": [
        "%cd /content\n",
        "\n",
        "## TODO: use when repo is public\n",
        "# !git clone https://github.com/jannerm/diffuser.git\n",
        "## backup for private repo\n",
        "!curl -L -o diffuser.zip https://www.dropbox.com/s/fe1scd8m2jf7zvj/diffuser.tar?dl=1\n",
        "!tar -xf diffuser.zip\n",
        "## /TODO\n",
        "\n",
        "%cd diffuser\n",
        "%pip install -f https://download.pytorch.org/whl/torch_stable.html \\\n",
        "                typed-argument-parser \\\n",
        "                scikit-image==0.17.2 \\\n",
        "                scikit-video==1.1.11 \\\n",
        "                gitpython \\\n",
        "                einops \\\n",
        "                pillow \\\n",
        "                free-mujoco-py \\\n",
        "                gym \\\n",
        "                git+https://github.com/JannerM/d4rl.git@0e84a4d29db3ae501043215ce1d91843929f1949 \\\n",
        "                git+https://github.com/aravindr93/mjrl\n",
        "\n",
        "%pip install -e ."
      ]
    },
    {
      "cell_type": "code",
      "execution_count": null,
      "metadata": {
        "colab": {
          "base_uri": "https://localhost:8080/"
        },
        "id": "rFVGxWIuVj5F",
        "outputId": "b0fde36e-b724-4c8c-c40a-3828a72ea943"
      },
      "outputs": [
        {
          "ename": "",
          "evalue": "",
          "output_type": "error",
          "traceback": [
            "\u001b[1;31mRunning cells with '/bin/python' requires the ipykernel package.\n",
            "\u001b[1;31mRun the following command to install 'ipykernel' into the Python environment. \n",
            "\u001b[1;31mCommand: '/bin/python -m pip install ipykernel -U --user --force-reinstall'"
          ]
        }
      ],
      "source": [
        "## cythonize mujoco-py at first import\n",
        "import diffuser.utils as utils\n",
        "\n",
        "# import importlib\n",
        "# importlib.reload(utils.colab)"
      ]
    },
    {
      "cell_type": "markdown",
      "metadata": {
        "id": "0qKnJbCXssgw"
      },
      "source": [
        "### Conditional sampling"
      ]
    },
    {
      "cell_type": "code",
      "execution_count": null,
      "metadata": {
        "id": "1PWx-SaieF74"
      },
      "outputs": [
        {
          "ename": "",
          "evalue": "",
          "output_type": "error",
          "traceback": [
            "\u001b[1;31mRunning cells with '/bin/python' requires the ipykernel package.\n",
            "\u001b[1;31mRun the following command to install 'ipykernel' into the Python environment. \n",
            "\u001b[1;31mCommand: '/bin/python -m pip install ipykernel -U --user --force-reinstall'"
          ]
        }
      ],
      "source": [
        "class Args:\n",
        "  loadpath = 'logs/azure/hopper-medium-expert-v2/diffusion/H128_T100'\n",
        "  diffusion_epoch = 'latest'\n",
        "  n_samples = 4\n",
        "  device = 'cuda:0'\n",
        "    \n",
        "args = Args()"
      ]
    },
    {
      "cell_type": "markdown",
      "metadata": {
        "id": "_PnSBgUVVnNq"
      },
      "source": [
        "Load diffusion model from disk"
      ]
    },
    {
      "cell_type": "code",
      "execution_count": null,
      "metadata": {
        "colab": {
          "base_uri": "https://localhost:8080/"
        },
        "id": "v-qLxTlKbm7d",
        "outputId": "fbcba444-8f72-4d36-b306-b53273047caa"
      },
      "outputs": [
        {
          "ename": "",
          "evalue": "",
          "output_type": "error",
          "traceback": [
            "\u001b[1;31mRunning cells with '/bin/python' requires the ipykernel package.\n",
            "\u001b[1;31mRun the following command to install 'ipykernel' into the Python environment. \n",
            "\u001b[1;31mCommand: '/bin/python -m pip install ipykernel -U --user --force-reinstall'"
          ]
        }
      ],
      "source": [
        "%cd /content/diffuser\n",
        "\n",
        "diffusion_experiment = utils.load_diffusion(\n",
        "    args.loadpath, epoch=args.diffusion_epoch)\n",
        "\n",
        "dataset = diffusion_experiment.dataset\n",
        "renderer = diffusion_experiment.renderer\n",
        "model = diffusion_experiment.trainer.ema_model"
      ]
    },
    {
      "cell_type": "markdown",
      "metadata": {
        "id": "R0CRaEtNVq8C"
      },
      "source": [
        "Initialize environment"
      ]
    },
    {
      "cell_type": "code",
      "execution_count": null,
      "metadata": {
        "id": "ouwBQMBcBXL7"
      },
      "outputs": [
        {
          "ename": "",
          "evalue": "",
          "output_type": "error",
          "traceback": [
            "\u001b[1;31mRunning cells with '/bin/python' requires the ipykernel package.\n",
            "\u001b[1;31mRun the following command to install 'ipykernel' into the Python environment. \n",
            "\u001b[1;31mCommand: '/bin/python -m pip install ipykernel -U --user --force-reinstall'"
          ]
        }
      ],
      "source": [
        "env = dataset.env\n",
        "obs = env.reset()"
      ]
    },
    {
      "cell_type": "markdown",
      "metadata": {
        "id": "Bw2wObJOVt-l"
      },
      "source": [
        "Run reverse diffusion"
      ]
    },
    {
      "cell_type": "code",
      "execution_count": null,
      "metadata": {
        "colab": {
          "base_uri": "https://localhost:8080/"
        },
        "id": "Y5xB7bx2COcg",
        "outputId": "3f693a7e-fa6c-4c9f-da90-1f255767005c"
      },
      "outputs": [
        {
          "ename": "",
          "evalue": "",
          "output_type": "error",
          "traceback": [
            "\u001b[1;31mRunning cells with '/bin/python' requires the ipykernel package.\n",
            "\u001b[1;31mRun the following command to install 'ipykernel' into the Python environment. \n",
            "\u001b[1;31mCommand: '/bin/python -m pip install ipykernel -U --user --force-reinstall'"
          ]
        }
      ],
      "source": [
        "observations = utils.colab.run_diffusion(\n",
        "    model, dataset, obs, args.n_samples, args.device)\n",
        "print(observations.shape)"
      ]
    },
    {
      "cell_type": "markdown",
      "metadata": {
        "id": "OhHZC48kVxGM"
      },
      "source": [
        "Render the samples"
      ]
    },
    {
      "cell_type": "code",
      "execution_count": null,
      "metadata": {
        "colab": {
          "base_uri": "https://localhost:8080/",
          "height": 221
        },
        "id": "3g8N_n8VRLPs",
        "outputId": "04457496-357d-4700-e722-e06a4944511f"
      },
      "outputs": [
        {
          "ename": "",
          "evalue": "",
          "output_type": "error",
          "traceback": [
            "\u001b[1;31mRunning cells with '/bin/python' requires the ipykernel package.\n",
            "\u001b[1;31mRun the following command to install 'ipykernel' into the Python environment. \n",
            "\u001b[1;31mCommand: '/bin/python -m pip install ipykernel -U --user --force-reinstall'"
          ]
        }
      ],
      "source": [
        "sample = observations[-1]\n",
        "utils.colab.show_sample(renderer, sample)"
      ]
    },
    {
      "cell_type": "markdown",
      "metadata": {
        "id": "iHn4eDk1V0hp"
      },
      "source": [
        "Render the full reverse diffusion process for the first sample.\n",
        "\n",
        "This renders `horizon * n_diffusion_steps` images, so takes a few minutes. Increasing `substep` will speed up the video generation, but cause it to skip frames."
      ]
    },
    {
      "cell_type": "code",
      "execution_count": null,
      "metadata": {
        "colab": {
          "base_uri": "https://localhost:8080/",
          "height": 458
        },
        "id": "FpRFKqP5Q8og",
        "outputId": "9a7e9e8a-acf6-4e80-9375-86ed928db00f"
      },
      "outputs": [
        {
          "ename": "",
          "evalue": "",
          "output_type": "error",
          "traceback": [
            "\u001b[1;31mRunning cells with '/bin/python' requires the ipykernel package.\n",
            "\u001b[1;31mRun the following command to install 'ipykernel' into the Python environment. \n",
            "\u001b[1;31mCommand: '/bin/python -m pip install ipykernel -U --user --force-reinstall'"
          ]
        }
      ],
      "source": [
        "utils.colab.show_diffusion(renderer, observations[:,:1], substep=1)"
      ]
    },
    {
      "cell_type": "code",
      "execution_count": null,
      "metadata": {
        "id": "qYCkHAZAYNsd"
      },
      "outputs": [
        {
          "ename": "",
          "evalue": "",
          "output_type": "error",
          "traceback": [
            "\u001b[1;31mRunning cells with '/bin/python' requires the ipykernel package.\n",
            "\u001b[1;31mRun the following command to install 'ipykernel' into the Python environment. \n",
            "\u001b[1;31mCommand: '/bin/python -m pip install ipykernel -U --user --force-reinstall'"
          ]
        }
      ],
      "source": []
    }
  ],
  "metadata": {
    "accelerator": "GPU",
    "colab": {
      "collapsed_sections": [
        "7Cy2P-c4XFTx"
      ],
      "name": "diffuser-sample.ipynb",
      "provenance": []
    },
    "kernelspec": {
      "display_name": "Python 3",
      "name": "python3"
    },
    "language_info": {
      "name": "python",
      "version": "3.9.18"
    }
  },
  "nbformat": 4,
  "nbformat_minor": 0
}
